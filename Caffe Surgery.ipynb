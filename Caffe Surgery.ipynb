{
 "cells": [
  {
   "cell_type": "code",
   "execution_count": 71,
   "metadata": {
    "collapsed": true
   },
   "outputs": [],
   "source": [
    "import caffe"
   ]
  },
  {
   "cell_type": "code",
   "execution_count": 72,
   "metadata": {
    "collapsed": true
   },
   "outputs": [],
   "source": [
    "import numpy as np"
   ]
  },
  {
   "cell_type": "code",
   "execution_count": 73,
   "metadata": {},
   "outputs": [],
   "source": [
    "model_1fcs = 'nets/tracker_1_fcs.prototxt';\n",
    "model_2fcs = 'nets/tracker_2_fcs.prototxt';\n",
    "model_3fcs = 'nets/tracker.prototxt';\n",
    "model_ensemble = 'nets/tracker_3_2_1.prototxt';\n",
    "weights_1fcs = 'dump_model_1_fcs_iter_50000.caffemodel';\n",
    "weights_2fcs = 'dump_model_2_fcs_iter_50000.caffemodel';\n",
    "weights_3fcs = 'dump_model_5_iter_50000.caffemodel';\n",
    "\n",
    "solver = 'nets/solver.prototxt'\n",
    "\n",
    "caffe.set_mode_gpu();\n",
    "caffe.set_device(0);"
   ]
  },
  {
   "cell_type": "code",
   "execution_count": 74,
   "metadata": {
    "collapsed": true
   },
   "outputs": [],
   "source": [
    "net_1fcs = caffe.Net(model_1fcs, weights_1fcs, caffe.TEST)\n",
    "net_2fcs = caffe.Net(model_2fcs, weights_2fcs, caffe.TEST)\n",
    "net_3fcs = caffe.Net(model_3fcs, weights_3fcs, caffe.TEST)\n",
    "net_ensemble = caffe.Net(model_ensemble, weights_3fcs, caffe.TEST)"
   ]
  },
  {
   "cell_type": "markdown",
   "metadata": {},
   "source": [
    "#### Make sure that all conv weights are the same!"
   ]
  },
  {
   "cell_type": "code",
   "execution_count": 75,
   "metadata": {},
   "outputs": [
    {
     "name": "stdout",
     "output_type": "stream",
     "text": [
      "All four networks have the same weights and biases for layer conv1!\n",
      "All four networks have the same weights and biases for layer conv1_p!\n",
      "All four networks have the same weights and biases for layer conv2!\n",
      "All four networks have the same weights and biases for layer conv2_p!\n",
      "All four networks have the same weights and biases for layer conv3!\n",
      "All four networks have the same weights and biases for layer conv3_p!\n",
      "All four networks have the same weights and biases for layer conv4!\n",
      "All four networks have the same weights and biases for layer conv4_p!\n",
      "All four networks have the same weights and biases for layer conv5!\n",
      "All four networks have the same weights and biases for layer conv5_p!\n"
     ]
    }
   ],
   "source": [
    "# Make sure that all weights in all models are the same\n",
    "for param in range(1,6, 1):\n",
    "    key = 'conv{}'.format(param)\n",
    "    key_p = 'conv{}_p'.format(param)\n",
    "    for k in [key, key_p]:\n",
    "        conv_1fcs = net_1fcs.params[k]\n",
    "        conv_2fcs = net_2fcs.params[k]\n",
    "        conv_3fcs = net_3fcs.params[k]\n",
    "        conv_ensemble = net_ensemble.params[k]\n",
    "        \n",
    "        assert(np.all(conv_1fcs[0].data == conv_2fcs[0].data))\n",
    "        assert(np.all(conv_2fcs[0].data == conv_3fcs[0].data))\n",
    "        assert(np.all(conv_3fcs[0].data == conv_ensemble[0].data))\n",
    "        assert(np.all(conv_1fcs[1].data == conv_2fcs[1].data))\n",
    "        assert(np.all(conv_2fcs[1].data == conv_3fcs[1].data))\n",
    "        assert(np.all(conv_3fcs[1].data == conv_ensemble[1].data))\n",
    "        print(\"All four networks have the same weights and biases for layer {}!\".format(k))"
   ]
  },
  {
   "cell_type": "markdown",
   "metadata": {},
   "source": [
    "#### Transfer the weights to new model"
   ]
  },
  {
   "cell_type": "code",
   "execution_count": 76,
   "metadata": {},
   "outputs": [
    {
     "data": {
      "text/plain": [
       "OrderedDict([('conv1', <caffe._caffe.BlobVec at 0x7fd52d2e5210>),\n",
       "             ('conv2', <caffe._caffe.BlobVec at 0x7fd52d2e53d0>),\n",
       "             ('conv3', <caffe._caffe.BlobVec at 0x7fd52d2e5d70>),\n",
       "             ('conv4', <caffe._caffe.BlobVec at 0x7fd52d2e5de0>),\n",
       "             ('conv5', <caffe._caffe.BlobVec at 0x7fd52d2e5c20>),\n",
       "             ('conv1_p', <caffe._caffe.BlobVec at 0x7fd52d2e5c90>),\n",
       "             ('conv2_p', <caffe._caffe.BlobVec at 0x7fd52d2e5ec0>),\n",
       "             ('conv3_p', <caffe._caffe.BlobVec at 0x7fd52d2e5f30>),\n",
       "             ('conv4_p', <caffe._caffe.BlobVec at 0x7fd52d2e5fa0>),\n",
       "             ('conv5_p', <caffe._caffe.BlobVec at 0x7fd52d2e5d00>),\n",
       "             ('1fcs-fc7-newb_new', <caffe._caffe.BlobVec at 0x7fd52d2e5e50>),\n",
       "             ('1fcs-fc8-shapes-new', <caffe._caffe.BlobVec at 0x7fd52d2d1050>),\n",
       "             ('2fcs-fc7-new_new', <caffe._caffe.BlobVec at 0x7fd52d2d10c0>),\n",
       "             ('2fcs-fc7-newb_new', <caffe._caffe.BlobVec at 0x7fd52d2d1130>),\n",
       "             ('2fcs-fc8-shapes_new', <caffe._caffe.BlobVec at 0x7fd52d2d11a0>),\n",
       "             ('3fcs-fc6-new', <caffe._caffe.BlobVec at 0x7fd52d2d1210>),\n",
       "             ('3fcs-fc7-new', <caffe._caffe.BlobVec at 0x7fd52d2d1280>),\n",
       "             ('3fcs-fc7-newb', <caffe._caffe.BlobVec at 0x7fd52d2d12f0>),\n",
       "             ('3fcs-fc8-shapes', <caffe._caffe.BlobVec at 0x7fd52d2d1360>)])"
      ]
     },
     "execution_count": 76,
     "metadata": {},
     "output_type": "execute_result"
    }
   ],
   "source": [
    "net_ensemble.params"
   ]
  },
  {
   "cell_type": "code",
   "execution_count": 77,
   "metadata": {},
   "outputs": [],
   "source": [
    "def transfer_params(from_net, from_layer, to_net, to_layer):\n",
    "    '''\n",
    "    Moves both weights and biases between two networks\n",
    "    '''\n",
    "    assert from_net.params[from_layer][0].data.shape == to_net.params[to_layer][0].data.shape, \"Weights should be of the same weights!\"\n",
    "    assert from_net.params[from_layer][1].data.shape == to_net.params[to_layer][1].data.shape, \"Biases should be of the same weights!\"\n",
    "    \n",
    "    to_net.params[to_layer][0].data[...] = from_net.params[from_layer][0].data[...]\n",
    "    to_net.params[to_layer][1].data[...] = from_net.params[from_layer][1].data[...]\n",
    "    \n",
    "    # Make sure changes took effect!\n",
    "    assert np.all(from_net.params[from_layer][0].data == to_net.params[to_layer][0].data)\n",
    "    assert np.all(from_net.params[from_layer][1].data == to_net.params[to_layer][1].data)"
   ]
  },
  {
   "cell_type": "code",
   "execution_count": 78,
   "metadata": {},
   "outputs": [],
   "source": [
    "# 1FCS\n",
    "for layer in ['fc7-newb_new', 'fc8-shapes-new']:\n",
    "    transfer_params(\n",
    "        net_1fcs, layer,\n",
    "        net_ensemble, '1fcs-{}'.format(layer)\n",
    "    )"
   ]
  },
  {
   "cell_type": "code",
   "execution_count": 79,
   "metadata": {
    "collapsed": true
   },
   "outputs": [],
   "source": [
    "# 2FCS\n",
    "for layer in [\"fc7-new_new\", \"fc7-newb_new\", \"fc8-shapes_new\"]:\n",
    "    transfer_params(\n",
    "        net_2fcs, layer,\n",
    "        net_ensemble, '2fcs-{}'.format(layer)\n",
    "    )"
   ]
  },
  {
   "cell_type": "code",
   "execution_count": 80,
   "metadata": {
    "collapsed": true
   },
   "outputs": [],
   "source": [
    "# 3FCS\n",
    "for layer in [\"fc6-new\", \"fc7-new\", \"fc7-newb\", \"fc8-shapes\"]:\n",
    "    transfer_params(\n",
    "        net_3fcs, layer,\n",
    "        net_ensemble, '3fcs-{}'.format(layer)\n",
    "    )"
   ]
  },
  {
   "cell_type": "code",
   "execution_count": 81,
   "metadata": {
    "collapsed": true
   },
   "outputs": [],
   "source": [
    "net_ensemble.save('dump_model_ensemble_3_2_1.caffemodel')"
   ]
  },
  {
   "cell_type": "markdown",
   "metadata": {},
   "source": [
    "### Ensemble 3-3-3-3"
   ]
  },
  {
   "cell_type": "code",
   "execution_count": 69,
   "metadata": {
    "collapsed": true
   },
   "outputs": [],
   "source": [
    "weights = np.array([ 0.2357, 0.2325, 0.2214 ])"
   ]
  },
  {
   "cell_type": "code",
   "execution_count": 70,
   "metadata": {},
   "outputs": [
    {
     "data": {
      "text/plain": [
       "array([ 0.34179234,  0.33715197,  0.32105568])"
      ]
     },
     "execution_count": 70,
     "metadata": {},
     "output_type": "execute_result"
    }
   ],
   "source": [
    "weights / weights.sum()"
   ]
  },
  {
   "cell_type": "code",
   "execution_count": 82,
   "metadata": {},
   "outputs": [
    {
     "data": {
      "text/plain": [
       "0.3209999999999999"
      ]
     },
     "execution_count": 82,
     "metadata": {},
     "output_type": "execute_result"
    }
   ],
   "source": [
    "1 - 0.342 - 0.337"
   ]
  },
  {
   "cell_type": "code",
   "execution_count": 84,
   "metadata": {
    "collapsed": true
   },
   "outputs": [],
   "source": [
    "model = 'nets/tracker.prototxt';\n",
    "model_ensemble = 'nets/tracker_3_3_3.prototxt';\n",
    "weights_1 = 'dump_model_2_iter_50000.caffemodel';\n",
    "weights_2 = 'dump_model_1_iter_50000.caffemodel';\n",
    "weights_3 = 'dump_model_4_iter_50000.caffemodel';\n",
    "\n",
    "caffe.set_mode_gpu();\n",
    "caffe.set_device(0);"
   ]
  },
  {
   "cell_type": "code",
   "execution_count": 85,
   "metadata": {
    "collapsed": true
   },
   "outputs": [],
   "source": [
    "net1 = caffe.Net(model, weights_1, caffe.TEST)\n",
    "net2 = caffe.Net(model, weights_2, caffe.TEST)\n",
    "net3 = caffe.Net(model, weights_3, caffe.TEST)\n",
    "net_ensemble = caffe.Net(model_ensemble, weights_1, caffe.TEST)"
   ]
  },
  {
   "cell_type": "code",
   "execution_count": 87,
   "metadata": {},
   "outputs": [
    {
     "data": {
      "text/plain": [
       "OrderedDict([('conv1', <caffe._caffe.BlobVec at 0x7fd52d2e5280>),\n",
       "             ('conv2', <caffe._caffe.BlobVec at 0x7fd52d2ddf30>),\n",
       "             ('conv3', <caffe._caffe.BlobVec at 0x7fd52d2d1830>),\n",
       "             ('conv4', <caffe._caffe.BlobVec at 0x7fd52d2d1590>),\n",
       "             ('conv5', <caffe._caffe.BlobVec at 0x7fd52d2d13d0>),\n",
       "             ('conv1_p', <caffe._caffe.BlobVec at 0x7fd52d2d1440>),\n",
       "             ('conv2_p', <caffe._caffe.BlobVec at 0x7fd52d2d14b0>),\n",
       "             ('conv3_p', <caffe._caffe.BlobVec at 0x7fd52d2d1520>),\n",
       "             ('conv4_p', <caffe._caffe.BlobVec at 0x7fd52d2d1670>),\n",
       "             ('conv5_p', <caffe._caffe.BlobVec at 0x7fd52d2d16e0>),\n",
       "             ('ens1-fc6-new', <caffe._caffe.BlobVec at 0x7fd52d2d1750>),\n",
       "             ('ens1-fc7-new', <caffe._caffe.BlobVec at 0x7fd52d2d17c0>),\n",
       "             ('ens1-fc7-newb', <caffe._caffe.BlobVec at 0x7fd52d2d1600>),\n",
       "             ('ens1-fc8-shapes', <caffe._caffe.BlobVec at 0x7fd52d2d18a0>),\n",
       "             ('ens2-fc6-new', <caffe._caffe.BlobVec at 0x7fd52d2d1910>),\n",
       "             ('ens2-fc7-new', <caffe._caffe.BlobVec at 0x7fd52d2d1980>),\n",
       "             ('ens2-fc7-newb', <caffe._caffe.BlobVec at 0x7fd52d2d19f0>),\n",
       "             ('ens2-fc8-shapes', <caffe._caffe.BlobVec at 0x7fd52d2d1a60>),\n",
       "             ('ens3-fc6-new', <caffe._caffe.BlobVec at 0x7fd52d2d1ad0>),\n",
       "             ('ens3-fc7-new', <caffe._caffe.BlobVec at 0x7fd52d2d1b40>),\n",
       "             ('ens3-fc7-newb', <caffe._caffe.BlobVec at 0x7fd52d2d1bb0>),\n",
       "             ('ens3-fc8-shapes', <caffe._caffe.BlobVec at 0x7fd52d2d1c20>)])"
      ]
     },
     "execution_count": 87,
     "metadata": {},
     "output_type": "execute_result"
    }
   ],
   "source": [
    "net_ensemble.params"
   ]
  },
  {
   "cell_type": "code",
   "execution_count": 88,
   "metadata": {
    "collapsed": true
   },
   "outputs": [],
   "source": [
    "for layer in ['fc6-new', 'fc7-new', 'fc7-newb', 'fc8-shapes']:\n",
    "    transfer_params(\n",
    "        net1, layer,\n",
    "        net_ensemble, 'ens1-{}'.format(layer)\n",
    "    )"
   ]
  },
  {
   "cell_type": "code",
   "execution_count": 89,
   "metadata": {
    "collapsed": true
   },
   "outputs": [],
   "source": [
    "for layer in ['fc6-new', 'fc7-new', 'fc7-newb', 'fc8-shapes']:\n",
    "    transfer_params(\n",
    "        net2, layer,\n",
    "        net_ensemble, 'ens2-{}'.format(layer)\n",
    "    )"
   ]
  },
  {
   "cell_type": "code",
   "execution_count": 90,
   "metadata": {
    "collapsed": true
   },
   "outputs": [],
   "source": [
    "for layer in ['fc6-new', 'fc7-new', 'fc7-newb', 'fc8-shapes']:\n",
    "    transfer_params(\n",
    "        net3, layer,\n",
    "        net_ensemble, 'ens3-{}'.format(layer)\n",
    "    )"
   ]
  },
  {
   "cell_type": "code",
   "execution_count": 91,
   "metadata": {
    "collapsed": true
   },
   "outputs": [],
   "source": [
    "net_ensemble.save('dump_model_ensemble_3_3_3.caffemodel')"
   ]
  },
  {
   "cell_type": "code",
   "execution_count": null,
   "metadata": {
    "collapsed": true
   },
   "outputs": [],
   "source": []
  }
 ],
 "metadata": {
  "kernelspec": {
   "display_name": "Python 2",
   "language": "python",
   "name": "python2"
  },
  "language_info": {
   "codemirror_mode": {
    "name": "ipython",
    "version": 2
   },
   "file_extension": ".py",
   "mimetype": "text/x-python",
   "name": "python",
   "nbconvert_exporter": "python",
   "pygments_lexer": "ipython2",
   "version": "2.7.12"
  }
 },
 "nbformat": 4,
 "nbformat_minor": 2
}
